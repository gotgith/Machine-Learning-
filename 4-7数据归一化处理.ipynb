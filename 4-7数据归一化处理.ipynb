{
 "cells": [
  {
   "cell_type": "markdown",
   "metadata": {},
   "source": [
    "## 数据归一化处理"
   ]
  },
  {
   "cell_type": "code",
   "execution_count": 1,
   "metadata": {},
   "outputs": [],
   "source": [
    "import numpy as np\n",
    "import matplotlib.pyplot as plt"
   ]
  },
  {
   "cell_type": "markdown",
   "metadata": {},
   "source": [
    "### 最值归一化 Normalization"
   ]
  },
  {
   "cell_type": "code",
   "execution_count": 2,
   "metadata": {},
   "outputs": [],
   "source": [
    "X = np.random.randint(0,100,100)"
   ]
  },
  {
   "cell_type": "code",
   "execution_count": 3,
   "metadata": {},
   "outputs": [
    {
     "data": {
      "text/plain": [
       "array([97,  5,  6,  3, 78, 35,  0, 96,  8,  5,  6, 36, 93, 84, 80, 87, 51,\n",
       "       28, 41,  1, 56, 41, 68, 98, 85, 34,  9, 37, 38, 36,  6, 92, 18, 50,\n",
       "       25, 24, 67, 54, 79, 66, 32, 13, 16, 76, 52,  9, 54, 35, 81, 90, 61,\n",
       "       87, 18, 91, 74, 50, 26, 52, 53, 77, 47, 65, 65, 21, 72, 61,  0, 34,\n",
       "       36, 40, 38, 98, 31, 78, 76, 48, 70, 14, 15, 31, 91, 61, 21, 94, 68,\n",
       "       88, 19, 81, 22,  6, 92, 20, 73, 34, 12, 77, 49, 98, 55,  5])"
      ]
     },
     "execution_count": 3,
     "metadata": {},
     "output_type": "execute_result"
    }
   ],
   "source": [
    "X"
   ]
  },
  {
   "cell_type": "code",
   "execution_count": 4,
   "metadata": {},
   "outputs": [
    {
     "data": {
      "text/plain": [
       "array([0.98979592, 0.05102041, 0.06122449, 0.03061224, 0.79591837,\n",
       "       0.35714286, 0.        , 0.97959184, 0.08163265, 0.05102041,\n",
       "       0.06122449, 0.36734694, 0.94897959, 0.85714286, 0.81632653,\n",
       "       0.8877551 , 0.52040816, 0.28571429, 0.41836735, 0.01020408,\n",
       "       0.57142857, 0.41836735, 0.69387755, 1.        , 0.86734694,\n",
       "       0.34693878, 0.09183673, 0.37755102, 0.3877551 , 0.36734694,\n",
       "       0.06122449, 0.93877551, 0.18367347, 0.51020408, 0.25510204,\n",
       "       0.24489796, 0.68367347, 0.55102041, 0.80612245, 0.67346939,\n",
       "       0.32653061, 0.13265306, 0.16326531, 0.7755102 , 0.53061224,\n",
       "       0.09183673, 0.55102041, 0.35714286, 0.82653061, 0.91836735,\n",
       "       0.62244898, 0.8877551 , 0.18367347, 0.92857143, 0.75510204,\n",
       "       0.51020408, 0.26530612, 0.53061224, 0.54081633, 0.78571429,\n",
       "       0.47959184, 0.66326531, 0.66326531, 0.21428571, 0.73469388,\n",
       "       0.62244898, 0.        , 0.34693878, 0.36734694, 0.40816327,\n",
       "       0.3877551 , 1.        , 0.31632653, 0.79591837, 0.7755102 ,\n",
       "       0.48979592, 0.71428571, 0.14285714, 0.15306122, 0.31632653,\n",
       "       0.92857143, 0.62244898, 0.21428571, 0.95918367, 0.69387755,\n",
       "       0.89795918, 0.19387755, 0.82653061, 0.2244898 , 0.06122449,\n",
       "       0.93877551, 0.20408163, 0.74489796, 0.34693878, 0.12244898,\n",
       "       0.78571429, 0.5       , 1.        , 0.56122449, 0.05102041])"
      ]
     },
     "execution_count": 4,
     "metadata": {},
     "output_type": "execute_result"
    }
   ],
   "source": [
    "(X - np.min(X))/(np.max(X) - np.min(X))"
   ]
  },
  {
   "cell_type": "code",
   "execution_count": 5,
   "metadata": {},
   "outputs": [],
   "source": [
    "X = np.random.randint(0,100,(50,2))"
   ]
  },
  {
   "cell_type": "code",
   "execution_count": 7,
   "metadata": {},
   "outputs": [
    {
     "data": {
      "text/plain": [
       "array([[45, 31],\n",
       "       [46, 29],\n",
       "       [69, 12],\n",
       "       [66, 94],\n",
       "       [35, 76],\n",
       "       [41, 60],\n",
       "       [ 8, 23],\n",
       "       [43, 84],\n",
       "       [75, 27],\n",
       "       [40, 50]])"
      ]
     },
     "execution_count": 7,
     "metadata": {},
     "output_type": "execute_result"
    }
   ],
   "source": [
    "X[:10,:]"
   ]
  },
  {
   "cell_type": "code",
   "execution_count": 9,
   "metadata": {},
   "outputs": [],
   "source": [
    "X = np.array(X, dtype=float)"
   ]
  },
  {
   "cell_type": "code",
   "execution_count": 10,
   "metadata": {},
   "outputs": [
    {
     "data": {
      "text/plain": [
       "array([[45., 31.],\n",
       "       [46., 29.],\n",
       "       [69., 12.],\n",
       "       [66., 94.],\n",
       "       [35., 76.],\n",
       "       [41., 60.],\n",
       "       [ 8., 23.],\n",
       "       [43., 84.],\n",
       "       [75., 27.],\n",
       "       [40., 50.]])"
      ]
     },
     "execution_count": 10,
     "metadata": {},
     "output_type": "execute_result"
    }
   ],
   "source": [
    "X[:10]"
   ]
  },
  {
   "cell_type": "code",
   "execution_count": 14,
   "metadata": {},
   "outputs": [],
   "source": [
    "X[:,0] = (X[:,0] - np.min(X[:,0])) / (np.max(X[:,0]) - np.min(X[:,0]))"
   ]
  },
  {
   "cell_type": "code",
   "execution_count": 15,
   "metadata": {},
   "outputs": [],
   "source": [
    "X[:,1] = (X[:,1] - np.min(X[:,1])) / (np.max(X[:,1]) - np.min(X[:,1]))"
   ]
  },
  {
   "cell_type": "code",
   "execution_count": 17,
   "metadata": {},
   "outputs": [
    {
     "data": {
      "text/plain": [
       "array([[0.45454545, 0.31632653],\n",
       "       [0.46464646, 0.29591837],\n",
       "       [0.6969697 , 0.12244898],\n",
       "       [0.66666667, 0.95918367],\n",
       "       [0.35353535, 0.7755102 ],\n",
       "       [0.41414141, 0.6122449 ],\n",
       "       [0.08080808, 0.23469388],\n",
       "       [0.43434343, 0.85714286],\n",
       "       [0.75757576, 0.2755102 ],\n",
       "       [0.4040404 , 0.51020408]])"
      ]
     },
     "execution_count": 17,
     "metadata": {},
     "output_type": "execute_result"
    }
   ],
   "source": [
    "X[:10]"
   ]
  },
  {
   "cell_type": "code",
   "execution_count": 20,
   "metadata": {},
   "outputs": [
    {
     "data": {
      "image/png": "[encoded data removed]",
      "text/plain": [
       "<Figure size 432x288 with 1 Axes>"
      ]
     },
     "metadata": {},
     "output_type": "display_data"
    }
   ],
   "source": [
    "plt.scatter(X[:,0],X[:,1])\n",
    "plt.show()"
   ]
  },
  {
   "cell_type": "code",
   "execution_count": 21,
   "metadata": {},
   "outputs": [
    {
     "data": {
      "text/plain": [
       "0.4674747474747475"
      ]
     },
     "execution_count": 21,
     "metadata": {},
     "output_type": "execute_result"
    }
   ],
   "source": [
    "np.mean(X[:,0])"
   ]
  },
  {
   "cell_type": "code",
   "execution_count": 22,
   "metadata": {},
   "outputs": [
    {
     "data": {
      "text/plain": [
       "0.3157339864651291"
      ]
     },
     "execution_count": 22,
     "metadata": {},
     "output_type": "execute_result"
    }
   ],
   "source": [
    "np.std(X[:,0])"
   ]
  },
  {
   "cell_type": "code",
   "execution_count": 23,
   "metadata": {},
   "outputs": [
    {
     "data": {
      "text/plain": [
       "0.5165306122448979"
      ]
     },
     "execution_count": 23,
     "metadata": {},
     "output_type": "execute_result"
    }
   ],
   "source": [
    "np.mean(X[:,1])"
   ]
  },
  {
   "cell_type": "code",
   "execution_count": 24,
   "metadata": {},
   "outputs": [
    {
     "data": {
      "text/plain": [
       "0.29368538218098095"
      ]
     },
     "execution_count": 24,
     "metadata": {},
     "output_type": "execute_result"
    }
   ],
   "source": [
    "np.std(X[:,1])"
   ]
  },
  {
   "cell_type": "markdown",
   "metadata": {},
   "source": [
    "### 均值方差归一化 Standarduzation"
   ]
  },
  {
   "cell_type": "code",
   "execution_count": 25,
   "metadata": {},
   "outputs": [],
   "source": [
    "X2 = np.random.randint(0,100,(50,2))"
   ]
  },
  {
   "cell_type": "code",
   "execution_count": 27,
   "metadata": {},
   "outputs": [],
   "source": [
    "X2 = np.array(X2, dtype=float)"
   ]
  },
  {
   "cell_type": "code",
   "execution_count": 28,
   "metadata": {},
   "outputs": [],
   "source": [
    "X2[:,0] = (X2[:,0] - np.mean(X2[:,0])) / np.std(X2[:,0])"
   ]
  },
  {
   "cell_type": "code",
   "execution_count": 29,
   "metadata": {},
   "outputs": [],
   "source": [
    "X2[:,1] = (X2[:,1] - np.mean(X2[:,1])) / np.std(X2[:,1])"
   ]
  },
  {
   "cell_type": "code",
   "execution_count": 30,
   "metadata": {},
   "outputs": [
    {
     "data": {
      "image/png": "[encoded data removed]",
      "text/plain": [
       "<Figure size 432x288 with 1 Axes>"
      ]
     },
     "metadata": {},
     "output_type": "display_data"
    }
   ],
   "source": [
    "plt.scatter(X2[:,0],X2[:,1])\n",
    "plt.show()"
   ]
  },
  {
   "cell_type": "code",
   "execution_count": 31,
   "metadata": {},
   "outputs": [
    {
     "data": {
      "text/plain": [
       "0.0"
      ]
     },
     "execution_count": 31,
     "metadata": {},
     "output_type": "execute_result"
    }
   ],
   "source": [
    "np.mean(X2[:,0])"
   ]
  },
  {
   "cell_type": "code",
   "execution_count": 32,
   "metadata": {},
   "outputs": [
    {
     "data": {
      "text/plain": [
       "0.9999999999999999"
      ]
     },
     "execution_count": 32,
     "metadata": {},
     "output_type": "execute_result"
    }
   ],
   "source": [
    "np.std(X2[:,0])"
   ]
  },
  {
   "cell_type": "code",
   "execution_count": 33,
   "metadata": {},
   "outputs": [
    {
     "data": {
      "text/plain": [
       "6.217248937900877e-17"
      ]
     },
     "execution_count": 33,
     "metadata": {},
     "output_type": "execute_result"
    }
   ],
   "source": [
    "np.mean(X2[:,1])"
   ]
  },
  {
   "cell_type": "code",
   "execution_count": 34,
   "metadata": {},
   "outputs": [
    {
     "data": {
      "text/plain": [
       "0.9999999999999999"
      ]
     },
     "execution_count": 34,
     "metadata": {},
     "output_type": "execute_result"
    }
   ],
   "source": [
    "np.std(X2[:,1])"
   ]
  },
  {
   "cell_type": "code",
   "execution_count": null,
   "metadata": {},
   "outputs": [],
   "source": []
  }
 ],
 "metadata": {
  "kernelspec": {
   "display_name": "Python 3",
   "language": "python",
   "name": "python3"
  },
  "language_info": {
   "codemirror_mode": {
    "name": "ipython",
    "version": 3
   },
   "file_extension": ".py",
   "mimetype": "text/x-python",
   "name": "python",
   "nbconvert_exporter": "python",
   "pygments_lexer": "ipython3",
   "version": "3.6.5"
  }
 },
 "nbformat": 4,
 "nbformat_minor": 2
}
