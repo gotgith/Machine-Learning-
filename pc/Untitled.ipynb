{
 "cells": [
  {
   "cell_type": "code",
   "execution_count": 1,
   "metadata": {},
   "outputs": [],
   "source": [
    "import matplotlib.pyplot as plt     #数学绘图库\n",
    "import jieba            #分词库\n",
    "from wordcloud import WordCloud,ImageColorGenerator   #词云库\n",
    "from scipy.misc import imread"
   ]
  },
  {
   "cell_type": "code",
   "execution_count": 8,
   "metadata": {},
   "outputs": [
    {
     "ename": "SyntaxError",
     "evalue": "invalid syntax (<ipython-input-8-c5e971b9e985>, line 1)",
     "output_type": "error",
     "traceback": [
      "\u001b[1;36m  File \u001b[1;32m\"<ipython-input-8-c5e971b9e985>\"\u001b[1;36m, line \u001b[1;32m1\u001b[0m\n\u001b[1;33m    text = open(1.txt)\u001b[0m\n\u001b[1;37m                    ^\u001b[0m\n\u001b[1;31mSyntaxError\u001b[0m\u001b[1;31m:\u001b[0m invalid syntax\n"
     ]
    }
   ],
   "source": [
    "text = open(1.txt)\n",
    "cut_text = jieba.cut(text)\n",
    "result = ' '.join(cut_text)\n",
    "print(result)\n",
    "\n",
    "#导入图片\n",
    "image =imread('.\\1,jpg')\n",
    "\n",
    "#生成云图\n",
    "wc = WordCloud(\n",
    "    #字体路径\n",
    "    font_path=r'.\\simsun.ttc',\n",
    "    #背景颜色\n",
    "    background_color='white',\n",
    "    max_font_size=50,\n",
    "    min_font_size=10,\n",
    "    #词云形状\n",
    "    mask=image\n",
    ")\n",
    "\n",
    "wc.generate(result)\n",
    "\n",
    "#从背景里提取背景颜色\n",
    "image_color = ImageColorGenerator(image)\n",
    "wc.recolor(color_func=image_color)\n",
    "wc.to_file(r'.\\wordcloud.png')\n",
    "\n",
    "#显示图片\n",
    "#图片名称\n",
    "plt.figure('wordcould')\n",
    "plt.imshow(wc)\n",
    "plt.axis('off')\n",
    "plt.show()"
   ]
  },
  {
   "cell_type": "code",
   "execution_count": null,
   "metadata": {},
   "outputs": [],
   "source": []
  },
  {
   "cell_type": "code",
   "execution_count": null,
   "metadata": {},
   "outputs": [],
   "source": []
  },
  {
   "cell_type": "code",
   "execution_count": null,
   "metadata": {},
   "outputs": [],
   "source": []
  },
  {
   "cell_type": "code",
   "execution_count": null,
   "metadata": {},
   "outputs": [],
   "source": []
  },
  {
   "cell_type": "code",
   "execution_count": null,
   "metadata": {},
   "outputs": [],
   "source": []
  },
  {
   "cell_type": "code",
   "execution_count": null,
   "metadata": {},
   "outputs": [],
   "source": []
  },
  {
   "cell_type": "code",
   "execution_count": null,
   "metadata": {},
   "outputs": [],
   "source": []
  }
 ],
 "metadata": {
  "kernelspec": {
   "display_name": "Python 3",
   "language": "python",
   "name": "python3"
  },
  "language_info": {
   "codemirror_mode": {
    "name": "ipython",
    "version": 3
   },
   "file_extension": ".py",
   "mimetype": "text/x-python",
   "name": "python",
   "nbconvert_exporter": "python",
   "pygments_lexer": "ipython3",
   "version": "3.6.5"
  }
 },
 "nbformat": 4,
 "nbformat_minor": 2
}
